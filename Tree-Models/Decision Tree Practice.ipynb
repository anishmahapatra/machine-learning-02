{
 "cells": [
  {
   "cell_type": "code",
   "execution_count": null,
   "metadata": {},
   "outputs": [],
   "source": []
  },
  {
   "cell_type": "code",
   "execution_count": null,
   "metadata": {},
   "outputs": [],
   "source": []
  },
  {
   "cell_type": "code",
   "execution_count": 1,
   "metadata": {},
   "outputs": [],
   "source": [
    "import numpy as np\n",
    "import pandas as pd\n",
    "import matplotlib.pyplot as plt\n",
    "import os\n",
    "from sklearn import metrics, preprocessing\n",
    "from sklearn.tree import DecisionTreeClassifier\n",
    "from sklearn.model_selection import KFold\n",
    "from sklearn.model_selection import GridSearchCV"
   ]
  },
  {
   "cell_type": "code",
   "execution_count": 4,
   "metadata": {},
   "outputs": [],
   "source": [
    "# read training data\n",
    "bank_train = pd.read_csv(\"training-training-bank_train/bank_train.csv\")"
   ]
  },
  {
   "cell_type": "code",
   "execution_count": 5,
   "metadata": {},
   "outputs": [
    {
     "name": "stdout",
     "output_type": "stream",
     "text": [
      "   age  duration  campaign  pdays  previous  emp.var.rate  cons.price.idx  \\\n",
      "0   49       284         1    999         0           1.4          93.918   \n",
      "1   58       374         1    999         0           1.4          93.918   \n",
      "2   36       529         1    999         0           1.4          93.444   \n",
      "3   47       216         1    999         0           1.4          94.465   \n",
      "4   38       191         1    999         0          -1.8          92.893   \n",
      "\n",
      "   cons.conf.idx  euribor3m  nr.employed  ...  job  marital  education  \\\n",
      "0          -42.7      4.957       5228.1  ...    1        0          7   \n",
      "1          -42.7      4.963       5228.1  ...    5        1          0   \n",
      "2          -36.1      4.965       5228.1  ...    0        3          6   \n",
      "3          -41.8      4.961       5228.1  ...    4        1          0   \n",
      "4          -46.2      1.313       5099.1  ...    0        2          7   \n",
      "\n",
      "   default  housing  loan  contact  month  day_of_week  poutcome  \n",
      "0        1        2     0        0      3            4         1  \n",
      "1        1        2     0        0      3            4         1  \n",
      "2        0        2     0        0      1            4         1  \n",
      "3        0        0     2        1      4            2         1  \n",
      "4        0        2     0        0      6            0         1  \n",
      "\n",
      "[5 rows x 22 columns]\n"
     ]
    }
   ],
   "source": [
    "print(bank_train.head())"
   ]
  },
  {
   "cell_type": "code",
   "execution_count": 6,
   "metadata": {},
   "outputs": [],
   "source": [
    "# split into x_train and y_train\n",
    "x_train = bank_train.drop(['purchased', 'id'], axis=1)\n",
    "y_train = bank_train[['purchased']]"
   ]
  },
  {
   "cell_type": "code",
   "execution_count": 7,
   "metadata": {},
   "outputs": [
    {
     "data": {
      "text/plain": [
       "GridSearchCV(cv=5, error_score=nan,\n",
       "             estimator=DecisionTreeClassifier(ccp_alpha=0.0, class_weight=None,\n",
       "                                              criterion='gini', max_depth=None,\n",
       "                                              max_features=None,\n",
       "                                              max_leaf_nodes=None,\n",
       "                                              min_impurity_decrease=0.0,\n",
       "                                              min_impurity_split=None,\n",
       "                                              min_samples_leaf=1,\n",
       "                                              min_samples_split=2,\n",
       "                                              min_weight_fraction_leaf=0.0,\n",
       "                                              presort='deprecated',\n",
       "                                              random_state=None,\n",
       "                                              splitter='best'),\n",
       "             iid='deprecated', n_jobs=None,\n",
       "             param_grid={'max_depth': range(1, 20)}, pre_dispatch='2*n_jobs',\n",
       "             refit=True, return_train_score=True, scoring='accuracy',\n",
       "             verbose=0)"
      ]
     },
     "execution_count": 7,
     "metadata": {},
     "output_type": "execute_result"
    }
   ],
   "source": [
    "# Hyperparameter tuning: maxdepth\n",
    "# specify number of folds for k-fold CV\n",
    "n_folds = 5\n",
    "\n",
    "# parameters to build the model on: specify a range of max_depth\n",
    "parameters = {'max_depth': range(1,20)}\n",
    "\n",
    "# instantiate the model\n",
    "dtree = DecisionTreeClassifier()\n",
    "\n",
    "# fit tree on training data\n",
    "tree = GridSearchCV(dtree, parameters, \n",
    "                    cv=n_folds, \n",
    "                  scoring=\"accuracy\",\n",
    "                  return_train_score=True)\n",
    "tree.fit(x_train, y_train)"
   ]
  },
  {
   "cell_type": "code",
   "execution_count": 8,
   "metadata": {},
   "outputs": [
    {
     "name": "stdout",
     "output_type": "stream",
     "text": [
      "   mean_fit_time  std_fit_time  mean_score_time  std_score_time  \\\n",
      "0       0.011733      0.003378         0.001798        0.000507   \n",
      "1       0.010922      0.003846         0.002415        0.002398   \n",
      "2       0.013993      0.001524         0.002028        0.002255   \n",
      "3       0.015308      0.003553         0.001943        0.001716   \n",
      "4       0.019603      0.006080         0.005246        0.003937   \n",
      "\n",
      "  param_max_depth            params  split0_test_score  split1_test_score  \\\n",
      "0               1  {'max_depth': 1}           0.893778           0.893778   \n",
      "1               2  {'max_depth': 2}           0.901366           0.895296   \n",
      "2               3  {'max_depth': 3}           0.901366           0.902883   \n",
      "3               4  {'max_depth': 4}           0.911988           0.890744   \n",
      "4               5  {'max_depth': 5}           0.890744           0.895296   \n",
      "\n",
      "   split2_test_score  split3_test_score  ...  mean_test_score  std_test_score  \\\n",
      "0           0.893778           0.893778  ...         0.893475        0.000607   \n",
      "1           0.915023           0.905918  ...         0.902883        0.007117   \n",
      "2           0.910470           0.901366  ...         0.906829        0.006551   \n",
      "3           0.911988           0.921093  ...         0.910774        0.010618   \n",
      "4           0.907436           0.919575  ...         0.905918        0.011356   \n",
      "\n",
      "   rank_test_score  split0_train_score  split1_train_score  \\\n",
      "0               17            0.893399            0.893399   \n",
      "1                6            0.918058            0.905918   \n",
      "2                2            0.921472            0.921472   \n",
      "3                1            0.929059            0.931335   \n",
      "4                4            0.941958            0.935508   \n",
      "\n",
      "   split2_train_score  split3_train_score  split4_train_score  \\\n",
      "0            0.893399            0.893399            0.897193   \n",
      "1            0.912367            0.911988            0.904780   \n",
      "2            0.917678            0.918058            0.916920   \n",
      "3            0.928300            0.921472            0.926024   \n",
      "4            0.934370            0.935888            0.934370   \n",
      "\n",
      "   mean_train_score  std_train_score  \n",
      "0          0.894158         0.001517  \n",
      "1          0.910622         0.004826  \n",
      "2          0.919120         0.001955  \n",
      "3          0.927238         0.003345  \n",
      "4          0.936419         0.002835  \n",
      "\n",
      "[5 rows x 21 columns]\n"
     ]
    }
   ],
   "source": [
    "# scores of GridSearch CV\n",
    "scores = tree.cv_results_\n",
    "print(pd.DataFrame(scores).head())"
   ]
  },
  {
   "cell_type": "code",
   "execution_count": 9,
   "metadata": {},
   "outputs": [
    {
     "data": {
      "image/png": "[encoded data removed]",
      "text/plain": [
       "<Figure size 432x288 with 1 Axes>"
      ]
     },
     "metadata": {
      "needs_background": "light"
     },
     "output_type": "display_data"
    }
   ],
   "source": [
    "\n",
    "# plotting accuracies with max_depth (code already written)\n",
    "plt.figure()\n",
    "plt.plot(scores[\"param_max_depth\"], \n",
    "         scores[\"mean_train_score\"], \n",
    "         label=\"training accuracy\")\n",
    "plt.plot(scores[\"param_max_depth\"], \n",
    "         scores[\"mean_test_score\"], \n",
    "         label=\"test accuracy\")\n",
    "plt.xlabel(\"max_depth\")\n",
    "plt.ylabel(\"Accuracy\")\n",
    "plt.legend()\n",
    "plt.show()"
   ]
  },
  {
   "cell_type": "code",
   "execution_count": null,
   "metadata": {},
   "outputs": [],
   "source": []
  },
  {
   "cell_type": "code",
   "execution_count": null,
   "metadata": {},
   "outputs": [],
   "source": []
  },
  {
   "cell_type": "code",
   "execution_count": null,
   "metadata": {},
   "outputs": [],
   "source": []
  },
  {
   "cell_type": "code",
   "execution_count": null,
   "metadata": {},
   "outputs": [],
   "source": [
    "# import numpy as np\n",
    "# import pandas as pd\n",
    "# import matplotlib.pyplot as plt\n",
    "# import os\n",
    "# from sklearn import metrics, preprocessing\n",
    "# from sklearn.tree import DecisionTreeClassifier\n",
    "# from sklearn.model_selection import KFold\n",
    "# from sklearn.model_selection import GridSearchCV\n",
    "\n",
    "# # read training data\n",
    "# bank_train = pd.read_csv(\"/data/training/bank_train.csv\")\n",
    "\n",
    "# # read test data\n",
    "# bank_test = pd.read_csv(\"/data/test/bank_test.csv\")\n",
    "\n",
    "# # print(bank_train.head())\n",
    "# # print(bank_test.head())\n",
    "\n",
    "# ##########################\n",
    "# ## WRITE YOUR CODE HERE ##\n",
    "# ##########################\n",
    "\n",
    "# # Build the model \n",
    "# # print(bank_train.columns)\n",
    "\n",
    "# # split into x_train and y_train\n",
    "# x_train = bank_train.drop(['purchased', 'id'], axis=1)\n",
    "# y_train = bank_train[['purchased']]\n",
    "\n",
    "# # Hyperparameter tuning: maxdepth\n",
    "# # specify number of folds for k-fold CV\n",
    "# n_folds = 5\n",
    "\n",
    "# # parameters to build the model on: specify a range of max_depth\n",
    "# parameters = {'max_depth': range(1,20)}\n",
    "\n",
    "# # instantiate the model\n",
    "# dtree = DecisionTreeClassifier()\n",
    "\n",
    "# # fit tree on training data\n",
    "# tree = GridSearchCV(dtree, parameters, \n",
    "#                     cv=n_folds, \n",
    "#                   scoring=\"accuracy\",\n",
    "#                   return_train_score=True)\n",
    "# tree.fit(x_train, y_train)\n",
    "\n",
    "# # scores of GridSearch CV\n",
    "# scores = tree.cv_results_\n",
    "# # print(pd.DataFrame(scores).head())\n",
    "\n",
    "# # plotting accuracies with max_depth (code already written)\n",
    "# plt.figure()\n",
    "# plt.plot(scores[\"param_max_depth\"], \n",
    "#          scores[\"mean_train_score\"], \n",
    "#          label=\"training accuracy\")\n",
    "# plt.plot(scores[\"param_max_depth\"], \n",
    "#          scores[\"mean_test_score\"], \n",
    "#          label=\"test accuracy\")\n",
    "# plt.xlabel(\"max_depth\")\n",
    "# plt.ylabel(\"Accuracy\")\n",
    "# plt.legend()\n",
    "# plt.show()\n",
    "# plt.savefig('/code/output/hyperparam.png') \n",
    "\n",
    "# # observe the optimal value of max_depth from the plot and store \n",
    "# # in max_depth_optimal\n",
    "# max_depth_optimal = 4\n",
    "\n",
    "# # Build a tree with optimal max_depth\n",
    "# best_tree = DecisionTreeClassifier(max_depth=max_depth_optimal)\n",
    "# best_tree.fit(x_train, y_train)\n",
    "\n",
    "# # make predictions on test data\n",
    "# predictions = best_tree.predict(bank_test.drop(['id'], axis=1))\n",
    "# # print(predictions[:5])\n",
    "\n",
    "\n",
    "# # Write columns id, predictions into the output file\n",
    "# d = pd.DataFrame({'id': bank_test['id'], 'bank_predicted': predictions})\n",
    "\n",
    "# # Write the output to file\n",
    "# d.to_csv('/code/output/bank_predictions.csv', sep=\",\")"
   ]
  }
 ],
 "metadata": {
  "kernelspec": {
   "display_name": "Python 3",
   "language": "python",
   "name": "python3"
  },
  "language_info": {
   "codemirror_mode": {
    "name": "ipython",
    "version": 3
   },
   "file_extension": ".py",
   "mimetype": "text/x-python",
   "name": "python",
   "nbconvert_exporter": "python",
   "pygments_lexer": "ipython3",
   "version": "3.7.6"
  }
 },
 "nbformat": 4,
 "nbformat_minor": 2
}
